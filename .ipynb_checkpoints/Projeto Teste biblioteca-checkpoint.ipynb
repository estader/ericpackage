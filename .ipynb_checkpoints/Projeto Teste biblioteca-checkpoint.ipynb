{
 "cells": [
  {
   "cell_type": "markdown",
   "metadata": {},
   "source": [
    "# Imports"
   ]
  },
  {
   "cell_type": "code",
   "execution_count": 2,
   "metadata": {
    "ExecuteTime": {
     "end_time": "2021-01-29T13:58:28.940862Z",
     "start_time": "2021-01-29T13:58:19.441229Z"
    }
   },
   "outputs": [
    {
     "ename": "ImportError",
     "evalue": "cannot import name 'train_test_split' from 'erpack.train_test_split' (C:\\Users\\Gipsy\\Documents\\ericpackage\\erpack\\train_test_split\\__init__.py)",
     "output_type": "error",
     "traceback": [
      "\u001b[1;31m---------------------------------------------------------------------------\u001b[0m",
      "\u001b[1;31mImportError\u001b[0m                               Traceback (most recent call last)",
      "\u001b[1;32m<ipython-input-2-16217050e5e1>\u001b[0m in \u001b[0;36m<module>\u001b[1;34m\u001b[0m\n\u001b[1;32m----> 1\u001b[1;33m \u001b[1;32mfrom\u001b[0m \u001b[0merpack\u001b[0m\u001b[1;33m.\u001b[0m\u001b[0mdata_cleaning\u001b[0m \u001b[1;32mimport\u001b[0m \u001b[1;33m*\u001b[0m\u001b[1;33m\u001b[0m\u001b[1;33m\u001b[0m\u001b[0m\n\u001b[0m\u001b[0;32m      2\u001b[0m \u001b[1;32mfrom\u001b[0m \u001b[0merpackage\u001b[0m\u001b[1;33m.\u001b[0m\u001b[0mfeature_engineering\u001b[0m \u001b[1;32mimport\u001b[0m \u001b[1;33m*\u001b[0m\u001b[1;33m\u001b[0m\u001b[1;33m\u001b[0m\u001b[0m\n\u001b[0;32m      3\u001b[0m \u001b[1;32mfrom\u001b[0m \u001b[0merpackage\u001b[0m\u001b[1;33m.\u001b[0m\u001b[0mfeature_selection\u001b[0m \u001b[1;32mimport\u001b[0m \u001b[1;33m*\u001b[0m\u001b[1;33m\u001b[0m\u001b[1;33m\u001b[0m\u001b[0m\n\u001b[0;32m      4\u001b[0m \u001b[1;32mfrom\u001b[0m \u001b[0merpackage\u001b[0m\u001b[1;33m.\u001b[0m\u001b[0mmodeling\u001b[0m \u001b[1;32mimport\u001b[0m \u001b[1;33m*\u001b[0m\u001b[1;33m\u001b[0m\u001b[1;33m\u001b[0m\u001b[0m\n\u001b[0;32m      5\u001b[0m \u001b[1;32mfrom\u001b[0m \u001b[0merpackage\u001b[0m\u001b[1;33m.\u001b[0m\u001b[0merror_analysis\u001b[0m \u001b[1;32mimport\u001b[0m \u001b[1;33m*\u001b[0m\u001b[1;33m\u001b[0m\u001b[1;33m\u001b[0m\u001b[0m\n",
      "\u001b[1;32m~\\Documents\\ericpackage\\erpack\\__init__.py\u001b[0m in \u001b[0;36m<module>\u001b[1;34m\u001b[0m\n\u001b[0;32m      2\u001b[0m \u001b[1;33m\u001b[0m\u001b[0m\n\u001b[0;32m      3\u001b[0m \u001b[1;32mfrom\u001b[0m \u001b[1;33m.\u001b[0m\u001b[0mquality_check\u001b[0m \u001b[1;32mimport\u001b[0m \u001b[0mquality_check\u001b[0m\u001b[1;33m\u001b[0m\u001b[1;33m\u001b[0m\u001b[0m\n\u001b[1;32m----> 4\u001b[1;33m \u001b[1;32mfrom\u001b[0m \u001b[1;33m.\u001b[0m\u001b[0mtrain_test_split\u001b[0m \u001b[1;32mimport\u001b[0m \u001b[0mtrain_test_split\u001b[0m\u001b[1;33m\u001b[0m\u001b[1;33m\u001b[0m\u001b[0m\n\u001b[0m\u001b[0;32m      5\u001b[0m \u001b[1;32mfrom\u001b[0m \u001b[1;33m.\u001b[0m\u001b[0mdata_cleaning\u001b[0m \u001b[1;32mimport\u001b[0m \u001b[0mdata_cleaning\u001b[0m\u001b[1;33m\u001b[0m\u001b[1;33m\u001b[0m\u001b[0m\n\u001b[0;32m      6\u001b[0m \u001b[1;32mfrom\u001b[0m \u001b[1;33m.\u001b[0m\u001b[0mfeature_engineering\u001b[0m \u001b[1;32mimport\u001b[0m \u001b[0mfeature_engineering\u001b[0m\u001b[1;33m\u001b[0m\u001b[1;33m\u001b[0m\u001b[0m\n",
      "\u001b[1;31mImportError\u001b[0m: cannot import name 'train_test_split' from 'erpack.train_test_split' (C:\\Users\\Gipsy\\Documents\\ericpackage\\erpack\\train_test_split\\__init__.py)"
     ]
    }
   ],
   "source": [
    "from erpack.data_cleaning import *\n",
    "from erpackage.feature_engineering import *\n",
    "from erpackage.feature_selection import *\n",
    "from erpackage.modeling import *\n",
    "from erpackage.error_analysis import *\n",
    "import pandas as pd\n",
    "import numpy as np\n",
    "from pandas_profiling import ProfileReport\n",
    "from sklearn.model_selection import train_test_split\n",
    "pd.set_option('display.max_columns', None)"
   ]
  },
  {
   "cell_type": "markdown",
   "metadata": {
    "ExecuteTime": {
     "end_time": "2021-01-23T23:31:28.698037Z",
     "start_time": "2021-01-23T23:31:28.684038Z"
    }
   },
   "source": [
    "# Leitura de dados"
   ]
  },
  {
   "cell_type": "code",
   "execution_count": null,
   "metadata": {
    "ExecuteTime": {
     "end_time": "2021-01-29T13:58:29.253858Z",
     "start_time": "2021-01-29T13:58:28.945851Z"
    }
   },
   "outputs": [],
   "source": [
    "caminho = 'C://Users//mxcy//Documents//'\n",
    "dados = pd.read_csv(caminho + 'houseprice.csv', encoding='utf8')"
   ]
  },
  {
   "cell_type": "markdown",
   "metadata": {
    "ExecuteTime": {
     "end_time": "2021-01-23T23:33:35.597199Z",
     "start_time": "2021-01-23T23:33:35.588229Z"
    }
   },
   "source": [
    "# Sanity Check"
   ]
  },
  {
   "cell_type": "code",
   "execution_count": null,
   "metadata": {
    "ExecuteTime": {
     "end_time": "2021-01-29T13:58:29.268818Z",
     "start_time": "2021-01-29T13:58:29.257848Z"
    }
   },
   "outputs": [],
   "source": [
    "#profile = ProfileReport(dados, title='Pandas Profiling Report', explorative=True)"
   ]
  },
  {
   "cell_type": "code",
   "execution_count": null,
   "metadata": {
    "ExecuteTime": {
     "end_time": "2021-01-29T13:58:29.284775Z",
     "start_time": "2021-01-29T13:58:29.273804Z"
    }
   },
   "outputs": [],
   "source": [
    "#profile.to_file(\"your_report.html\")"
   ]
  },
  {
   "cell_type": "code",
   "execution_count": null,
   "metadata": {
    "ExecuteTime": {
     "end_time": "2021-01-29T13:58:29.481051Z",
     "start_time": "2021-01-29T13:58:29.294750Z"
    }
   },
   "outputs": [],
   "source": [
    "dados.head()"
   ]
  },
  {
   "cell_type": "code",
   "execution_count": null,
   "metadata": {
    "ExecuteTime": {
     "end_time": "2021-01-29T13:58:29.512963Z",
     "start_time": "2021-01-29T13:58:29.485040Z"
    }
   },
   "outputs": [],
   "source": [
    "tabela, lista_cat, lista_num = dc_features_tipos(dados)"
   ]
  },
  {
   "cell_type": "code",
   "execution_count": null,
   "metadata": {
    "ExecuteTime": {
     "end_time": "2021-01-29T13:58:29.543881Z",
     "start_time": "2021-01-29T13:58:29.520944Z"
    }
   },
   "outputs": [],
   "source": [
    "lista_num"
   ]
  },
  {
   "cell_type": "code",
   "execution_count": null,
   "metadata": {
    "ExecuteTime": {
     "end_time": "2021-01-29T13:58:29.558844Z",
     "start_time": "2021-01-29T13:58:29.548868Z"
    }
   },
   "outputs": [],
   "source": [
    "lista_cat"
   ]
  },
  {
   "cell_type": "code",
   "execution_count": null,
   "metadata": {
    "ExecuteTime": {
     "end_time": "2021-01-29T13:58:29.764804Z",
     "start_time": "2021-01-29T13:58:29.562832Z"
    }
   },
   "outputs": [],
   "source": [
    "tabela, lista_cat_nulos, lista_num_nulos = dc_nulos(dados)"
   ]
  },
  {
   "cell_type": "code",
   "execution_count": null,
   "metadata": {
    "ExecuteTime": {
     "end_time": "2021-01-29T13:58:29.795722Z",
     "start_time": "2021-01-29T13:58:29.768793Z"
    }
   },
   "outputs": [],
   "source": [
    "tabela.head()"
   ]
  },
  {
   "cell_type": "code",
   "execution_count": null,
   "metadata": {
    "ExecuteTime": {
     "end_time": "2021-01-29T13:58:29.811680Z",
     "start_time": "2021-01-29T13:58:29.801707Z"
    }
   },
   "outputs": [],
   "source": [
    "lista_num_nulos"
   ]
  },
  {
   "cell_type": "markdown",
   "metadata": {},
   "source": [
    "# Separação de conjunto de dados"
   ]
  },
  {
   "cell_type": "code",
   "execution_count": null,
   "metadata": {
    "ExecuteTime": {
     "end_time": "2021-01-29T13:58:29.841599Z",
     "start_time": "2021-01-29T13:58:29.815669Z"
    }
   },
   "outputs": [],
   "source": [
    "target= 'SalePrice'\n",
    "X = dados.iloc[:, dados.columns != target]\n",
    "y = dados.loc[:, target]\n",
    "X_train, X_val, y_train, y_val = train_test_split(X, y, test_size=0.3, random_state=0, shuffle=True)"
   ]
  },
  {
   "cell_type": "markdown",
   "metadata": {},
   "source": [
    "# Limpeza de dados"
   ]
  },
  {
   "cell_type": "markdown",
   "metadata": {
    "ExecuteTime": {
     "end_time": "2021-01-27T19:28:59.436694Z",
     "start_time": "2021-01-27T19:28:59.429710Z"
    }
   },
   "source": [
    "###### Drop colunas:"
   ]
  },
  {
   "cell_type": "code",
   "execution_count": null,
   "metadata": {
    "ExecuteTime": {
     "end_time": "2021-01-29T13:58:29.857555Z",
     "start_time": "2021-01-29T13:58:29.845588Z"
    }
   },
   "outputs": [],
   "source": [
    "lista_colunas_retirar = ['Id','PoolQC', 'SalePrice']"
   ]
  },
  {
   "cell_type": "code",
   "execution_count": null,
   "metadata": {
    "ExecuteTime": {
     "end_time": "2021-01-29T13:58:29.889472Z",
     "start_time": "2021-01-29T13:58:29.861546Z"
    }
   },
   "outputs": [],
   "source": [
    "def retira_colunas(dataset,lista_colunas_retirar):\n",
    "    print('qtd colunas antes: '+str(dataset.shape[1]))\n",
    "    dataset.drop(columns = lista_colunas_retirar, inplace=True, errors = 'ignore')\n",
    "    print('qtd colunas depois: '+str(dataset.shape[1]))\n",
    "    return dataset\n",
    "\n",
    "dados = retira_colunas(X_train,lista_colunas_retirar)"
   ]
  },
  {
   "cell_type": "markdown",
   "metadata": {},
   "source": [
    "###### Atualização das listas:"
   ]
  },
  {
   "cell_type": "code",
   "execution_count": null,
   "metadata": {
    "ExecuteTime": {
     "end_time": "2021-01-29T13:58:29.905428Z",
     "start_time": "2021-01-29T13:58:29.893460Z"
    }
   },
   "outputs": [],
   "source": [
    "lista_num_nulos =[i for i in lista_num_nulos if i not in lista_colunas_retirar] \n",
    "lista_cat_nulos = [i for i in lista_cat_nulos if i not in lista_colunas_retirar]\n",
    "lista_num = [i for i in lista_num if i not in lista_colunas_retirar]\n",
    "lista_cat = [i for i in lista_cat if i not in lista_colunas_retirar]"
   ]
  },
  {
   "cell_type": "markdown",
   "metadata": {},
   "source": [
    "##### Drop de registros (duplicatas e outliers):"
   ]
  },
  {
   "cell_type": "code",
   "execution_count": null,
   "metadata": {
    "ExecuteTime": {
     "end_time": "2021-01-29T13:58:29.983219Z",
     "start_time": "2021-01-29T13:58:29.910415Z"
    }
   },
   "outputs": [],
   "source": [
    "X_train, y_train = dc_duplicatas(X_train, y_train)"
   ]
  },
  {
   "cell_type": "markdown",
   "metadata": {},
   "source": [
    "##### Impute para missing data:"
   ]
  },
  {
   "cell_type": "code",
   "execution_count": null,
   "metadata": {
    "ExecuteTime": {
     "end_time": "2021-01-29T13:58:29.998179Z",
     "start_time": "2021-01-29T13:58:29.987210Z"
    }
   },
   "outputs": [],
   "source": [
    "lista_variaveis = lista_num_nulos \n",
    "forma = 'mean'"
   ]
  },
  {
   "cell_type": "code",
   "execution_count": null,
   "metadata": {
    "ExecuteTime": {
     "end_time": "2021-01-29T13:58:30.044057Z",
     "start_time": "2021-01-29T13:58:30.003166Z"
    }
   },
   "outputs": [],
   "source": [
    "X_train, imputer1 = dc_fillna_custom(X_train, lista_variaveis, forma)\n",
    "#X_val = imputer1.transform(X_val)"
   ]
  },
  {
   "cell_type": "code",
   "execution_count": null,
   "metadata": {
    "ExecuteTime": {
     "end_time": "2021-01-29T13:58:30.089935Z",
     "start_time": "2021-01-29T13:58:30.048047Z"
    }
   },
   "outputs": [],
   "source": [
    "lista_variaveis = lista_cat_nulos \n",
    "forma = 'categorical'\n",
    "X_train, imputer2 = dc_fillna_custom(X_train, lista_variaveis, forma)\n",
    "#X_val = imputer1.transform(X_val)"
   ]
  },
  {
   "cell_type": "markdown",
   "metadata": {},
   "source": [
    "# Feature Engineering"
   ]
  },
  {
   "cell_type": "markdown",
   "metadata": {},
   "source": [
    "##### Transformações Numéricas"
   ]
  },
  {
   "cell_type": "code",
   "execution_count": null,
   "metadata": {
    "ExecuteTime": {
     "end_time": "2021-01-29T13:58:30.105892Z",
     "start_time": "2021-01-29T13:58:30.093924Z"
    }
   },
   "outputs": [],
   "source": [
    "lista_num = lista_num"
   ]
  },
  {
   "cell_type": "code",
   "execution_count": null,
   "metadata": {
    "ExecuteTime": {
     "end_time": "2021-01-29T13:58:30.120852Z",
     "start_time": "2021-01-29T13:58:30.109882Z"
    }
   },
   "outputs": [],
   "source": [
    "print(lista_variaveis)"
   ]
  },
  {
   "cell_type": "code",
   "execution_count": null,
   "metadata": {
    "ExecuteTime": {
     "end_time": "2021-01-29T13:58:30.306357Z",
     "start_time": "2021-01-29T13:58:30.124842Z"
    }
   },
   "outputs": [],
   "source": [
    "lista_variaveis = lista_num\n",
    "forma = 'Log' \n",
    "X_train2, tf1, lista_variaveis_trans1 = fe_numerical_transform(X_train, lista_variaveis, forma, valor=None)\n",
    "print(len(X_train2.columns))\n",
    "X_train = original_e_transformada(X_train,X_train2, lista_variaveis_trans1, sufixo = forma)\n",
    "X_train.head(1)"
   ]
  },
  {
   "cell_type": "code",
   "execution_count": null,
   "metadata": {
    "ExecuteTime": {
     "end_time": "2021-01-29T13:58:30.588602Z",
     "start_time": "2021-01-29T13:58:30.310347Z"
    }
   },
   "outputs": [],
   "source": [
    "forma='Reciprocal'\n",
    "X_train2, tf2, lista_variaveis_trans2 = fe_numerical_transform(X_train, lista_variaveis, forma, valor=None)\n",
    "print(len(X_train2.columns))\n",
    "X_train = original_e_transformada(X_train,X_train2, lista_variaveis_trans2, sufixo = forma)\n",
    "X_train.head(1)"
   ]
  },
  {
   "cell_type": "code",
   "execution_count": null,
   "metadata": {
    "ExecuteTime": {
     "end_time": "2021-01-29T13:58:30.901286Z",
     "start_time": "2021-01-29T13:58:30.592591Z"
    }
   },
   "outputs": [],
   "source": [
    "forma='Power'\n",
    "X_train2, tf3, lista_variaveis_trans3 = fe_numerical_transform(X_train, lista_variaveis, forma, valor=1.5)\n",
    "print(len(X_train2.columns))\n",
    "X_train = original_e_transformada(X_train,X_train2, lista_variaveis_trans3, sufixo = forma)\n",
    "X_train.head(1)"
   ]
  },
  {
   "cell_type": "markdown",
   "metadata": {
    "ExecuteTime": {
     "end_time": "2021-01-29T01:13:05.841099Z",
     "start_time": "2021-01-29T01:13:05.540360Z"
    }
   },
   "source": [
    "forma='BoxCox'\n",
    "X_train2, tf4, lista_variaveis_trans4 = fe_numerical_transform(X_train, lista_variaveis, forma, valor=None)\n",
    "print(len(X_train2.columns))\n",
    "X_train = original_e_transformada(X_train,X_train2, lista_variaveis_trans4, sufixo = forma)\n",
    "X_train.head(1)"
   ]
  },
  {
   "cell_type": "markdown",
   "metadata": {
    "ExecuteTime": {
     "end_time": "2021-01-29T09:51:11.862249Z",
     "start_time": "2021-01-29T09:51:11.461240Z"
    }
   },
   "source": [
    "forma='YeoJohnson'\n",
    "X_train2, tf5, lista_variaveis_trans5 = fe_numerical_transform(X_train, lista_variaveis, forma, valor=None)\n",
    "print(len(X_train2.columns))\n",
    "X_train = original_e_transformada(X_train,X_train2, lista_variaveis_trans5, sufixo = forma)\n",
    "X_train.head(1)"
   ]
  },
  {
   "cell_type": "markdown",
   "metadata": {},
   "source": [
    "##### Transformações categóricas"
   ]
  },
  {
   "cell_type": "code",
   "execution_count": null,
   "metadata": {
    "ExecuteTime": {
     "end_time": "2021-01-29T13:58:30.932200Z",
     "start_time": "2021-01-29T13:58:30.914248Z"
    }
   },
   "outputs": [],
   "source": [
    "lista_variaveis = lista_cat\n",
    "forma = 'ohe'"
   ]
  },
  {
   "cell_type": "markdown",
   "metadata": {
    "ExecuteTime": {
     "end_time": "2021-01-29T10:49:45.588285Z",
     "start_time": "2021-01-29T10:49:45.269130Z"
    }
   },
   "source": [
    "X_train, encoder1 = fe_categorical_transform(X_train, y_train, lista_variaveis, forma , valor=None)"
   ]
  },
  {
   "cell_type": "code",
   "execution_count": null,
   "metadata": {
    "ExecuteTime": {
     "end_time": "2021-01-29T13:58:30.948156Z",
     "start_time": "2021-01-29T13:58:30.939181Z"
    }
   },
   "outputs": [],
   "source": [
    "forma = 'RareLabel'"
   ]
  },
  {
   "cell_type": "code",
   "execution_count": null,
   "metadata": {
    "ExecuteTime": {
     "end_time": "2021-01-29T13:58:31.199003Z",
     "start_time": "2021-01-29T13:58:30.952147Z"
    }
   },
   "outputs": [],
   "source": [
    "X_train, encoder1 = fe_categorical_transform(X_train, y_train, lista_variaveis, forma , valor=None)"
   ]
  },
  {
   "cell_type": "code",
   "execution_count": null,
   "metadata": {
    "ExecuteTime": {
     "end_time": "2021-01-29T13:58:31.214476Z",
     "start_time": "2021-01-29T13:58:31.202507Z"
    }
   },
   "outputs": [],
   "source": [
    "forma = 'CountFrequency'"
   ]
  },
  {
   "cell_type": "code",
   "execution_count": null,
   "metadata": {
    "ExecuteTime": {
     "end_time": "2021-01-29T13:58:31.447884Z",
     "start_time": "2021-01-29T13:58:31.218466Z"
    }
   },
   "outputs": [],
   "source": [
    "X_train, encoder2 = fe_categorical_transform(X_train, y_train, lista_variaveis, forma , valor=None)"
   ]
  },
  {
   "cell_type": "code",
   "execution_count": null,
   "metadata": {
    "ExecuteTime": {
     "end_time": "2021-01-29T13:58:31.649344Z",
     "start_time": "2021-01-29T13:58:31.451874Z"
    }
   },
   "outputs": [],
   "source": [
    "X_train.head(2)"
   ]
  },
  {
   "cell_type": "code",
   "execution_count": null,
   "metadata": {
    "ExecuteTime": {
     "end_time": "2021-01-29T13:58:31.664304Z",
     "start_time": "2021-01-29T13:58:31.653335Z"
    }
   },
   "outputs": [],
   "source": [
    "len(X_train.columns)"
   ]
  },
  {
   "cell_type": "markdown",
   "metadata": {},
   "source": [
    "# Feature Selection"
   ]
  },
  {
   "cell_type": "code",
   "execution_count": null,
   "metadata": {
    "ExecuteTime": {
     "end_time": "2021-01-29T13:58:31.711180Z",
     "start_time": "2021-01-29T13:58:31.668295Z"
    }
   },
   "outputs": [],
   "source": [
    "X_train, lista_colunas_selecionadas = fs_variancia(X_train,  0.01, ver_features_selecionadas=True)"
   ]
  },
  {
   "cell_type": "code",
   "execution_count": null,
   "metadata": {
    "ExecuteTime": {
     "end_time": "2021-01-29T13:58:31.727138Z",
     "start_time": "2021-01-29T13:58:31.715168Z"
    }
   },
   "outputs": [],
   "source": [
    "set(lista_colunas_selecionadas)"
   ]
  },
  {
   "cell_type": "markdown",
   "metadata": {
    "ExecuteTime": {
     "end_time": "2021-01-23T23:34:47.795955Z",
     "start_time": "2021-01-23T23:34:47.783988Z"
    }
   },
   "source": [
    "# Modeling"
   ]
  },
  {
   "cell_type": "markdown",
   "metadata": {},
   "source": [
    "##### Preparação do conjunto de Validação"
   ]
  },
  {
   "cell_type": "code",
   "execution_count": null,
   "metadata": {
    "ExecuteTime": {
     "end_time": "2021-01-29T13:58:31.759050Z",
     "start_time": "2021-01-29T13:58:31.731127Z"
    }
   },
   "outputs": [],
   "source": [
    "X_val = retira_colunas(X_val, lista_colunas_retirar)"
   ]
  },
  {
   "cell_type": "code",
   "execution_count": null,
   "metadata": {
    "ExecuteTime": {
     "end_time": "2021-01-29T13:58:31.790966Z",
     "start_time": "2021-01-29T13:58:31.763041Z"
    }
   },
   "outputs": [],
   "source": [
    "X_val = imputer1.transform(X_val)\n",
    "X_val = imputer2.transform(X_val)"
   ]
  },
  {
   "cell_type": "code",
   "execution_count": null,
   "metadata": {
    "ExecuteTime": {
     "end_time": "2021-01-29T13:58:31.979463Z",
     "start_time": "2021-01-29T13:58:31.794955Z"
    }
   },
   "outputs": [],
   "source": [
    "X_val2 = tf1.transform(X_val) \n",
    "X_val = original_e_transformada(X_val,X_val2, lista_variaveis_trans1, sufixo = 'Log')\n",
    "X_val2 = tf2.transform(X_val) \n",
    "X_val = original_e_transformada(X_val,X_val2, lista_variaveis_trans2, sufixo = 'Reciprocal')\n",
    "X_val2 = tf3.transform(X_val) \n",
    "X_val = original_e_transformada(X_val,X_val2, lista_variaveis_trans3, sufixo = 'Power')\n",
    "#X_val2 = tf4.transform(X_val) \n",
    "#X_val = original_e_transformada(X_val,X_val2, lista_variaveis_trans4, sufixo = 'BoxCox')\n",
    "#X_val2 = tf5.transform(X_val) \n",
    "#X_val = original_e_transformada(X_val,X_val2, lista_variaveis_trans5, sufixo = 'YeoJohnson')"
   ]
  },
  {
   "cell_type": "code",
   "execution_count": null,
   "metadata": {
    "ExecuteTime": {
     "end_time": "2021-01-29T13:58:32.137040Z",
     "start_time": "2021-01-29T13:58:31.983452Z"
    }
   },
   "outputs": [],
   "source": [
    "X_val = encoder1.transform(X_val)\n",
    "X_val = encoder2.transform(X_val)\n"
   ]
  },
  {
   "cell_type": "code",
   "execution_count": null,
   "metadata": {
    "ExecuteTime": {
     "end_time": "2021-01-29T13:58:32.167958Z",
     "start_time": "2021-01-29T13:58:32.141030Z"
    }
   },
   "outputs": [],
   "source": [
    "encoder1.encoder_dict_"
   ]
  },
  {
   "cell_type": "code",
   "execution_count": null,
   "metadata": {
    "ExecuteTime": {
     "end_time": "2021-01-29T13:58:32.183915Z",
     "start_time": "2021-01-29T13:58:32.171947Z"
    }
   },
   "outputs": [],
   "source": [
    "X_val = X_val[lista_colunas_selecionadas]"
   ]
  },
  {
   "cell_type": "code",
   "execution_count": null,
   "metadata": {
    "ExecuteTime": {
     "end_time": "2021-01-29T13:58:32.384734Z",
     "start_time": "2021-01-29T13:58:32.188901Z"
    }
   },
   "outputs": [],
   "source": [
    "tabela, lista_cat_nulos, lista_num_nulos = dc_nulos(X_val)\n",
    "lista_num_nulos"
   ]
  },
  {
   "cell_type": "code",
   "execution_count": null,
   "metadata": {
    "ExecuteTime": {
     "end_time": "2021-01-29T13:58:50.929616Z",
     "start_time": "2021-01-29T13:58:32.388723Z"
    }
   },
   "outputs": [],
   "source": [
    "modelos, lista_predicoes = auto_ml_regressor(\n",
    "    X_train,\n",
    "    X_val,\n",
    "    y_train,\n",
    "    y_val,\n",
    "    algoritmos=['randomforest', 'extratree', 'gbm', 'adaboost', 'xgboost'],\n",
    "    search=True,\n",
    "    type_search='randomsearch',\n",
    "    target_transform=None)\n",
    "modelos"
   ]
  },
  {
   "cell_type": "markdown",
   "metadata": {},
   "source": [
    "# Avaliação de resultados"
   ]
  },
  {
   "cell_type": "code",
   "execution_count": null,
   "metadata": {
    "ExecuteTime": {
     "end_time": "2021-01-29T13:58:50.944577Z",
     "start_time": "2021-01-29T13:58:50.933605Z"
    }
   },
   "outputs": [],
   "source": [
    "modelos.iloc[0,1]"
   ]
  },
  {
   "cell_type": "code",
   "execution_count": null,
   "metadata": {
    "ExecuteTime": {
     "end_time": "2021-01-29T13:58:55.923985Z",
     "start_time": "2021-01-29T13:58:50.949563Z"
    }
   },
   "outputs": [],
   "source": [
    "decomposicao_bias_variancia(modelos.iloc[0,1], X_train, y_train, X_val, y_val)"
   ]
  },
  {
   "cell_type": "code",
   "execution_count": null,
   "metadata": {
    "ExecuteTime": {
     "end_time": "2021-01-29T13:59:01.534683Z",
     "start_time": "2021-01-29T13:58:55.928973Z"
    }
   },
   "outputs": [],
   "source": [
    "report_features_erros_modelos(modelos, X_val, y_val, lista_predicoes, target)"
   ]
  },
  {
   "cell_type": "code",
   "execution_count": null,
   "metadata": {},
   "outputs": [],
   "source": []
  },
  {
   "cell_type": "markdown",
   "metadata": {
    "ExecuteTime": {
     "end_time": "2021-01-23T23:36:16.618715Z",
     "start_time": "2021-01-23T23:36:16.609741Z"
    }
   },
   "source": [
    "# Predição e interpretação"
   ]
  },
  {
   "cell_type": "code",
   "execution_count": null,
   "metadata": {},
   "outputs": [],
   "source": []
  },
  {
   "cell_type": "code",
   "execution_count": null,
   "metadata": {},
   "outputs": [],
   "source": []
  },
  {
   "cell_type": "code",
   "execution_count": null,
   "metadata": {},
   "outputs": [],
   "source": []
  }
 ],
 "metadata": {
  "kernelspec": {
   "display_name": "Python 3",
   "language": "python",
   "name": "python3"
  },
  "language_info": {
   "codemirror_mode": {
    "name": "ipython",
    "version": 3
   },
   "file_extension": ".py",
   "mimetype": "text/x-python",
   "name": "python",
   "nbconvert_exporter": "python",
   "pygments_lexer": "ipython3",
   "version": "3.8.3"
  },
  "toc": {
   "base_numbering": 1,
   "nav_menu": {},
   "number_sections": true,
   "sideBar": true,
   "skip_h1_title": false,
   "title_cell": "Table of Contents",
   "title_sidebar": "Contents",
   "toc_cell": false,
   "toc_position": {},
   "toc_section_display": true,
   "toc_window_display": false
  },
  "varInspector": {
   "cols": {
    "lenName": 16,
    "lenType": 16,
    "lenVar": 40
   },
   "kernels_config": {
    "python": {
     "delete_cmd_postfix": "",
     "delete_cmd_prefix": "del ",
     "library": "var_list.py",
     "varRefreshCmd": "print(var_dic_list())"
    },
    "r": {
     "delete_cmd_postfix": ") ",
     "delete_cmd_prefix": "rm(",
     "library": "var_list.r",
     "varRefreshCmd": "cat(var_dic_list()) "
    }
   },
   "types_to_exclude": [
    "module",
    "function",
    "builtin_function_or_method",
    "instance",
    "_Feature"
   ],
   "window_display": false
  }
 },
 "nbformat": 4,
 "nbformat_minor": 4
}
